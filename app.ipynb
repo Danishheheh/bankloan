{
 "cells": [
  {
   "cell_type": "code",
   "execution_count": 3,
   "id": "5507e8e4-6db3-457e-a318-ae8f80fef9a4",
   "metadata": {},
   "outputs": [
    {
     "name": "stdout",
     "output_type": "stream",
     "text": [
      " * Serving Flask app '__main__'\n",
      " * Debug mode: on\n"
     ]
    },
    {
     "name": "stderr",
     "output_type": "stream",
     "text": [
      "WARNING: This is a development server. Do not use it in a production deployment. Use a production WSGI server instead.\n",
      " * Running on http://127.0.0.1:5000\n",
      "Press CTRL+C to quit\n",
      " * Restarting with watchdog (windowsapi)\n"
     ]
    },
    {
     "ename": "SystemExit",
     "evalue": "1",
     "output_type": "error",
     "traceback": [
      "An exception has occurred, use %tb to see the full traceback.\n",
      "\u001b[1;31mSystemExit\u001b[0m\u001b[1;31m:\u001b[0m 1\n"
     ]
    }
   ],
   "source": [
    "from flask import Flask,render_template,request\n",
    "import joblib\n",
    "import numpy as np\n",
    "\n",
    "#initialize flask app\n",
    "app=Flask(__name__)\n",
    "#load trained model\n",
    "model=joblib.load(\"fraud_model.pkl\")\n",
    "\n",
    "\n",
    "@app.route('/')\n",
    "def home():\n",
    "    return render_template(\"home.html\")\n",
    "\n",
    "@app.route('/predict',methods=[\"POST\"])\n",
    "def predict():\n",
    "    #get dat from form\n",
    "    try:\n",
    "        features=[float(request.form[f'feature{i}']) for i in range(1,5)]\n",
    "    except ValueError:\n",
    "        return render_template('result.html',prediction='Invalid input. Please enter numeric values.')\n",
    "    # make prediction\n",
    "    prediction = model.predict([features])[0]\n",
    "    # map prediction to class name\n",
    "    class_names=['Setosa','Versicolor','Virginica']\n",
    "    result=class_names[prediction]\n",
    "    return render_template('result.html',prediction=result)\n",
    "if __name__=='__main__':\n",
    "    app.run(debug=True)"
   ]
  },
  {
   "cell_type": "code",
   "execution_count": null,
   "id": "3335c625-e0af-4e65-bb66-42a81bf520a7",
   "metadata": {},
   "outputs": [],
   "source": []
  }
 ],
 "metadata": {
  "kernelspec": {
   "display_name": "Python 3 (ipykernel)",
   "language": "python",
   "name": "python3"
  },
  "language_info": {
   "codemirror_mode": {
    "name": "ipython",
    "version": 3
   },
   "file_extension": ".py",
   "mimetype": "text/x-python",
   "name": "python",
   "nbconvert_exporter": "python",
   "pygments_lexer": "ipython3",
   "version": "3.12.7"
  }
 },
 "nbformat": 4,
 "nbformat_minor": 5
}
